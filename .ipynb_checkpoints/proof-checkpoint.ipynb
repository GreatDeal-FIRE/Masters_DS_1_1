{
 "cells": [
  {
   "cell_type": "markdown",
   "id": "6389aee0-d31f-4281-a336-7019c528b3ac",
   "metadata": {},
   "source": [
    "## Data Preprocessing"
   ]
  },
  {
   "cell_type": "code",
   "execution_count": 7,
   "id": "76d8b5c1-519e-4375-a026-6d34264f7fb7",
   "metadata": {},
   "outputs": [
    {
     "name": "stdout",
     "output_type": "stream",
     "text": [
      "<class 'pandas.core.frame.DataFrame'>\n",
      "RangeIndex: 24 entries, 0 to 23\n",
      "Data columns (total 4 columns):\n",
      " #   Column                            Non-Null Count  Dtype  \n",
      "---  ------                            --------------  -----  \n",
      " 0   Year                              24 non-null     int64  \n",
      " 1   Nominal GDP prices (Ksh Million)  24 non-null     object \n",
      " 2   Annual GDP growth (%)             24 non-null     float64\n",
      " 3   Real GDP prices (Ksh Million)     24 non-null     object \n",
      "dtypes: float64(1), int64(1), object(2)\n",
      "memory usage: 900.0+ bytes\n"
     ]
    },
    {
     "data": {
      "text/plain": [
       "(   Year Nominal GDP prices (Ksh Million)  Annual GDP growth (%)  \\\n",
       " 0  2023                       15,108,806                    5.6   \n",
       " 1  2022                       13,489,642                    4.9   \n",
       " 2  2021                       12,027,662                    7.6   \n",
       " 3  2020                       10,715,070                   -0.3   \n",
       " 4  2019                       10,237,727                    5.1   \n",
       " \n",
       "   Real GDP prices (Ksh Million)  \n",
       " 0                    10,399,980  \n",
       " 1                     9,852,583  \n",
       " 2                     9,395,942  \n",
       " 3                     8,733,060  \n",
       " 4                     8,756,946  ,\n",
       " None)"
      ]
     },
     "execution_count": 7,
     "metadata": {},
     "output_type": "execute_result"
    }
   ],
   "source": [
    "import pandas as pd\n",
    "\n",
    "# Load the dataset to examine its structure and contents\n",
    "file_path = 'Annual GDP.csv'\n",
    "gdp_data = pd.read_csv(file_path)\n",
    "\n",
    "# Display the first few rows and general info about the dataset\n",
    "gdp_data.head(), gdp_data.info()\n"
   ]
  },
  {
   "cell_type": "code",
   "execution_count": 9,
   "id": "2ca52e5f-9436-4e2d-9add-57e14775878b",
   "metadata": {},
   "outputs": [
    {
     "name": "stdout",
     "output_type": "stream",
     "text": [
      "<class 'pandas.core.frame.DataFrame'>\n",
      "RangeIndex: 24 entries, 0 to 23\n",
      "Data columns (total 4 columns):\n",
      " #   Column                            Non-Null Count  Dtype  \n",
      "---  ------                            --------------  -----  \n",
      " 0   Year                              24 non-null     int64  \n",
      " 1   Nominal GDP prices (Ksh Million)  24 non-null     float64\n",
      " 2   Annual GDP growth (%)             24 non-null     float64\n",
      " 3   Real GDP prices (Ksh Million)     24 non-null     float64\n",
      "dtypes: float64(3), int64(1)\n",
      "memory usage: 900.0 bytes\n"
     ]
    },
    {
     "data": {
      "text/plain": [
       "(   Year  Nominal GDP prices (Ksh Million)  Annual GDP growth (%)  \\\n",
       " 0  2023                        15108806.0                    5.6   \n",
       " 1  2022                        13489642.0                    4.9   \n",
       " 2  2021                        12027662.0                    7.6   \n",
       " 3  2020                        10715070.0                   -0.3   \n",
       " 4  2019                        10237727.0                    5.1   \n",
       " \n",
       "    Real GDP prices (Ksh Million)  \n",
       " 0                     10399980.0  \n",
       " 1                      9852583.0  \n",
       " 2                      9395942.0  \n",
       " 3                      8733060.0  \n",
       " 4                      8756946.0  ,\n",
       " None)"
      ]
     },
     "execution_count": 9,
     "metadata": {},
     "output_type": "execute_result"
    }
   ],
   "source": [
    "# Remove commas and convert the GDP columns to numeric types\n",
    "gdp_data['Nominal GDP prices (Ksh Million)'] = gdp_data['Nominal GDP prices (Ksh Million)'].str.replace(',', '').astype(float)\n",
    "gdp_data['Real GDP prices (Ksh Million)'] = gdp_data['Real GDP prices (Ksh Million)'].str.replace(',', '').astype(float)\n",
    "\n",
    "# Confirm changes by displaying the updated data types and first few rows\n",
    "gdp_data.head(), gdp_data.info()"
   ]
  },
  {
   "cell_type": "code",
   "execution_count": null,
   "id": "698e9d4e-f68b-4aa9-9cfc-20281bdde4c6",
   "metadata": {},
   "outputs": [],
   "source": []
  }
 ],
 "metadata": {
  "kernelspec": {
   "display_name": "Python 3 (ipykernel)",
   "language": "python",
   "name": "python3"
  },
  "language_info": {
   "codemirror_mode": {
    "name": "ipython",
    "version": 3
   },
   "file_extension": ".py",
   "mimetype": "text/x-python",
   "name": "python",
   "nbconvert_exporter": "python",
   "pygments_lexer": "ipython3",
   "version": "3.11.4"
  }
 },
 "nbformat": 4,
 "nbformat_minor": 5
}
